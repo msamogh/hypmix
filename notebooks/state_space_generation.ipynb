{
 "cells": [
  {
   "cell_type": "code",
   "execution_count": 5,
   "metadata": {},
   "outputs": [],
   "source": [
    "import numpy as np\n",
    "np.random.seed(0)"
   ]
  },
  {
   "cell_type": "code",
   "execution_count": 19,
   "metadata": {},
   "outputs": [],
   "source": [
    "def get_states_for_persistence_testing():\n",
    "    N_STATES = 10\n",
    "    N_SAMPLES = 50\n",
    "    N_VALUES = 10\n",
    "    states = np.random.randint(0, 2, (N_SAMPLES, N_STATES))\n",
    "    for i in range(N_STATES):\n",
    "        states[i * (N_SAMPLES // N_VALUES) : (i + 1) * (N_SAMPLES // N_VALUES), 0] = i\n",
    "    return states"
   ]
  },
  {
   "cell_type": "code",
   "execution_count": 91,
   "metadata": {},
   "outputs": [
    {
     "data": {
      "text/plain": [
       "array([[10,  0,  1,  1,  1,  1,  1,  1,  1,  1,  0],\n",
       "       [10,  1,  1,  1,  1,  1,  1,  1,  1,  1,  0],\n",
       "       [10,  1,  1,  1,  1,  1,  1,  1,  1,  1,  1],\n",
       "       [10,  1,  0,  1,  1,  1,  1,  1,  1,  1,  1],\n",
       "       [10,  1,  1,  1,  1,  1,  1,  0,  1,  1,  1],\n",
       "       [10,  0,  1,  0,  1,  1,  1,  1,  1,  1,  1],\n",
       "       [10,  1,  1,  1,  1,  1,  1,  1,  1,  1,  1],\n",
       "       [10,  1,  1,  1,  0,  1,  1,  1,  1,  0,  1],\n",
       "       [10,  1,  1,  0,  1,  0,  1,  1,  1,  1,  0],\n",
       "       [10,  0,  1,  1,  1,  1,  1,  1,  1,  1,  1]])"
      ]
     },
     "execution_count": 91,
     "metadata": {},
     "output_type": "execute_result"
    }
   ],
   "source": [
    "def next_state_vector(num_state_vars=10, desired_mean=5, std_dev=1):\n",
    "    # Sample the sum S from a normal distribution\n",
    "    S = int(np.random.normal(desired_mean, std_dev))\n",
    "    S = max(0, min(S, num_state_vars))  # Ensure S is within the valid range [0, n]\n",
    "\n",
    "    # Calculate the probability p\n",
    "    p = S / num_state_vars\n",
    "\n",
    "    # Generate binary variables\n",
    "    return np.hstack((\n",
    "        np.tile([desired_mean], (10, 1)),\n",
    "        np.random.binomial(1, p, (10, num_state_vars))\n",
    "    ))\n",
    "\n",
    "next_state_vector(desired_mean=10)"
   ]
  },
  {
   "cell_type": "code",
   "execution_count": null,
   "metadata": {},
   "outputs": [],
   "source": []
  }
 ],
 "metadata": {
  "kernelspec": {
   "display_name": "classroom",
   "language": "python",
   "name": "python3"
  },
  "language_info": {
   "codemirror_mode": {
    "name": "ipython",
    "version": 3
   },
   "file_extension": ".py",
   "mimetype": "text/x-python",
   "name": "python",
   "nbconvert_exporter": "python",
   "pygments_lexer": "ipython3",
   "version": "3.11.9"
  }
 },
 "nbformat": 4,
 "nbformat_minor": 2
}
